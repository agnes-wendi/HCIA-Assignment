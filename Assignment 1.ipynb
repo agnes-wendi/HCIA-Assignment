{
 "cells": [
  {
   "cell_type": "code",
   "execution_count": 1,
   "metadata": {},
   "outputs": [
    {
     "name": "stdout",
     "output_type": "stream",
     "text": [
      "1.19.2\n",
      "1.1.3\n"
     ]
    }
   ],
   "source": [
    "#checking version of pandas and numpy installed\n",
    "import numpy\n",
    "print(numpy.version.version)# numpy version\n",
    "import pandas as pd\n",
    "print(pd.__version__)# pandas version"
   ]
  },
  {
   "cell_type": "code",
   "execution_count": 2,
   "metadata": {},
   "outputs": [
    {
     "name": "stdout",
     "output_type": "stream",
     "text": [
      "Hello HCIA PDTP-Huawei Team\n"
     ]
    }
   ],
   "source": [
    "#program to print hello HCIA PDTP-Huawei Team\n",
    "print(\"Hello HCIA PDTP-Huawei Team\")"
   ]
  },
  {
   "cell_type": "code",
   "execution_count": 3,
   "metadata": {},
   "outputs": [
    {
     "name": "stdout",
     "output_type": "stream",
     "text": [
      "90\n"
     ]
    }
   ],
   "source": [
    "#program to define two variales,calculate their sum and display the results\n",
    "x=40\n",
    "y=50\n",
    "print(x+y)"
   ]
  },
  {
   "cell_type": "code",
   "execution_count": 5,
   "metadata": {},
   "outputs": [
    {
     "name": "stdout",
     "output_type": "stream",
     "text": [
      "oranges\n"
     ]
    }
   ],
   "source": [
    "# tuple that contains one element\n",
    "tuple1 = (\"oranges\")\n",
    "print(tuple1)"
   ]
  },
  {
   "cell_type": "code",
   "execution_count": 8,
   "metadata": {
    "scrolled": true
   },
   "outputs": [
    {
     "name": "stdout",
     "output_type": "stream",
     "text": [
      "oranges\n",
      "apples\n",
      "bananas\n",
      "grapes\n"
     ]
    }
   ],
   "source": [
    "#define a tuple then use for loop to print all the elements\n",
    "tuple2 = (\"oranges\",\"apples\",\"bananas\",\"grapes\")\n",
    "for i in tuple2:\n",
    "    print(i)"
   ]
  },
  {
   "cell_type": "code",
   "execution_count": 9,
   "metadata": {
    "scrolled": true
   },
   "outputs": [
    {
     "name": "stdout",
     "output_type": "stream",
     "text": [
      "{'name': 'Reagan', 'phone': '+254722 222333'}\n"
     ]
    }
   ],
   "source": [
    "# python dictionary\n",
    "dict1 = {\"name\":\"Reagan\",\"phone\":\"+254722 222333\"}\n",
    "print(dict1)"
   ]
  },
  {
   "cell_type": "code",
   "execution_count": 10,
   "metadata": {},
   "outputs": [
    {
     "data": {
      "text/plain": [
       "48"
      ]
     },
     "execution_count": 10,
     "metadata": {},
     "output_type": "execute_result"
    }
   ],
   "source": [
    "#function to do multiplication\n",
    "def mul(x,y):\n",
    "    product=x*y\n",
    "    return(product)\n",
    "mul(8,6)"
   ]
  },
  {
   "cell_type": "code",
   "execution_count": 12,
   "metadata": {},
   "outputs": [
    {
     "data": {
      "text/plain": [
       "100"
      ]
     },
     "execution_count": 12,
     "metadata": {},
     "output_type": "execute_result"
    }
   ],
   "source": [
    "# function to return square\n",
    "def sqrProd(x,y):\n",
    "    sqrProd=(x*y)*(y*x)\n",
    "    return(sqrProd)\n",
    "sqrProd(2,5)"
   ]
  },
  {
   "cell_type": "code",
   "execution_count": 17,
   "metadata": {
    "scrolled": true
   },
   "outputs": [
    {
     "name": "stdout",
     "output_type": "stream",
     "text": [
      "[[0. 0. 0. 0. 0.]\n",
      " [0. 0. 0. 0. 0.]\n",
      " [0. 0. 0. 0. 0.]\n",
      " [0. 0. 0. 0. 0.]\n",
      " [0. 0. 0. 0. 0.]]\n",
      "[[0 1 2]\n",
      " [3 4 5]\n",
      " [6 7 8]]\n",
      "(array([0, 1, 4], dtype=int32),)\n",
      "[[0.24770606 0.83480318 0.28434404 0.8270962  0.74089618 0.96845163\n",
      "  0.11919103 0.33886542 0.78056962 0.76668051]\n",
      " [0.32798195 0.70061616 0.61532079 0.92827124 0.7127641  0.11730928\n",
      "  0.01231963 0.00825814 0.75539676 0.17001766]\n",
      " [0.87601196 0.07429596 0.54322831 0.98666446 0.2220175  0.78731092\n",
      "  0.45737964 0.71963551 0.91260841 0.07479218]\n",
      " [0.32565553 0.43872509 0.54844436 0.77157962 0.44916566 0.7621523\n",
      "  0.51080619 0.5351558  0.05083215 0.05813402]\n",
      " [0.03462344 0.30691939 0.63274032 0.84797503 0.9293258  0.14839616\n",
      "  0.29298201 0.87415932 0.29133034 0.50561709]\n",
      " [0.06207711 0.6866961  0.28619532 0.00515911 0.70863724 0.95155032\n",
      "  0.18173377 0.61818612 0.015578   0.56018383]\n",
      " [0.8569717  0.53623708 0.33132929 0.48723561 0.60331252 0.92330131\n",
      "  0.92534851 0.55445279 0.78585916 0.44559381]\n",
      " [0.77530889 0.27458801 0.89487842 0.43435504 0.87155822 0.09813879\n",
      "  0.77336546 0.00915287 0.45591374 0.78273832]\n",
      " [0.47297052 0.43308157 0.13899671 0.99258032 0.26113438 0.13525292\n",
      "  0.38215586 0.65443481 0.02357714 0.58309331]\n",
      " [0.63510069 0.50104563 0.112354   0.00176966 0.78472028 0.71389882\n",
      "  0.08056685 0.39745097 0.86799258 0.54839929]]\n",
      "0.0017696646206168953\n",
      "0.9925803216941385\n",
      "[0.19652717 0.38556685 0.79392449 0.79334874 0.87553696 0.90529024\n",
      " 0.53755494 0.37925758 0.64831433 0.61291816 0.4197705  0.3436113\n",
      " 0.74162912 0.39321892 0.2029798  0.9937755  0.22726655 0.79202085\n",
      " 0.75960144 0.24501758 0.60179243 0.86820897 0.98680539 0.62658158\n",
      " 0.3497773  0.41116238 0.24527361 0.95366339 0.86192772 0.33582962]\n",
      "0.5829384464807283\n"
     ]
    }
   ],
   "source": [
    "import numpy as np\n",
    "# 5x5 array whose elements are zeros\n",
    "array1 = np.zeros((5,5))\n",
    "print(array1)\n",
    "#3x3 matrix with values ranging from 0 to 8\n",
    "array2 = np.arange(9).reshape(3, 3)\n",
    "print(array2)\n",
    "# find indices of non zero elements from[1,2,0,0,4,0]\n",
    "array3 = np.array([1,2,0,0,4,0])\n",
    "print(np.nonzero(array3))\n",
    "#create a 10x10 array with random values and find the minimun and maximum values\n",
    "array4 = np.random.rand(10,10)\n",
    "print(array4)\n",
    "print(np.min(array4))\n",
    "print(np.max(array4))\n",
    "# create a random vector of size 30 and find the mean value\n",
    "array5 = np.random.rand(30)\n",
    "print(array5)\n",
    "print(np.mean(array5))"
   ]
  },
  {
   "cell_type": "code",
   "execution_count": 20,
   "metadata": {
    "scrolled": true
   },
   "outputs": [
    {
     "name": "stdout",
     "output_type": "stream",
     "text": [
      "Enter the first number: 50\n",
      "Enter the second number: 40\n",
      "2000\n"
     ]
    }
   ],
   "source": [
    "# Prompt the user for two numbers\n",
    "x = int(input(\"Enter the first number: \"))\n",
    "y = int(input(\"Enter the second number: \"))\n",
    "\n",
    "# Calculate the product\n",
    "product = x * y\n",
    "\n",
    "# Print the product with an appropriate label\n",
    "print(product)"
   ]
  },
  {
   "cell_type": "code",
   "execution_count": 24,
   "metadata": {},
   "outputs": [
    {
     "name": "stdout",
     "output_type": "stream",
     "text": [
      "6\n",
      "2\n",
      "10\n"
     ]
    }
   ],
   "source": [
    "# double list\n",
    "def doubleList(numberList):\n",
    "    for i in numberList:\n",
    "        double= i *2 \n",
    "        print(double)\n",
    "numberList = [3,1,5]    \n",
    "doubleList(numberList)"
   ]
  }
 ],
 "metadata": {
  "kernelspec": {
   "display_name": "Python 3",
   "language": "python",
   "name": "python3"
  },
  "language_info": {
   "codemirror_mode": {
    "name": "ipython",
    "version": 3
   },
   "file_extension": ".py",
   "mimetype": "text/x-python",
   "name": "python",
   "nbconvert_exporter": "python",
   "pygments_lexer": "ipython3",
   "version": "3.8.5"
  }
 },
 "nbformat": 4,
 "nbformat_minor": 4
}
