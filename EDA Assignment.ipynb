{
 "cells": [
  {
   "cell_type": "code",
   "execution_count": 1,
   "metadata": {
    "scrolled": true
   },
   "outputs": [
    {
     "name": "stdout",
     "output_type": "stream",
     "text": [
      "       age         workclass  fnlwgt   education  education-num  \\\n",
      "0       39         State-gov   77516   Bachelors             13   \n",
      "1       50  Self-emp-not-inc   83311   Bachelors             13   \n",
      "2       38           Private  215646     HS-grad              9   \n",
      "3       53           Private  234721        11th              7   \n",
      "4       28           Private  338409   Bachelors             13   \n",
      "...    ...               ...     ...         ...            ...   \n",
      "32556   27           Private  257302  Assoc-acdm             12   \n",
      "32557   40           Private  154374     HS-grad              9   \n",
      "32558   58           Private  151910     HS-grad              9   \n",
      "32559   22           Private  201490     HS-grad              9   \n",
      "32560   52      Self-emp-inc  287927     HS-grad              9   \n",
      "\n",
      "           marital-status         occupation   relationship   race     sex  \\\n",
      "0           Never-married       Adm-clerical  Not-in-family  White    Male   \n",
      "1      Married-civ-spouse    Exec-managerial        Husband  White    Male   \n",
      "2                Divorced  Handlers-cleaners  Not-in-family  White    Male   \n",
      "3      Married-civ-spouse  Handlers-cleaners        Husband  Black    Male   \n",
      "4      Married-civ-spouse     Prof-specialty           Wife  Black  Female   \n",
      "...                   ...                ...            ...    ...     ...   \n",
      "32556  Married-civ-spouse       Tech-support           Wife  White  Female   \n",
      "32557  Married-civ-spouse  Machine-op-inspct        Husband  White    Male   \n",
      "32558             Widowed       Adm-clerical      Unmarried  White  Female   \n",
      "32559       Never-married       Adm-clerical      Own-child  White    Male   \n",
      "32560  Married-civ-spouse    Exec-managerial           Wife  White  Female   \n",
      "\n",
      "       capital-gain  capital-loss  hours-per-week native-country salary  \n",
      "0              2174             0              40  United-States  <=50K  \n",
      "1                 0             0              13  United-States  <=50K  \n",
      "2                 0             0              40  United-States  <=50K  \n",
      "3                 0             0              40  United-States  <=50K  \n",
      "4                 0             0              40           Cuba  <=50K  \n",
      "...             ...           ...             ...            ...    ...  \n",
      "32556             0             0              38  United-States  <=50K  \n",
      "32557             0             0              40  United-States   >50K  \n",
      "32558             0             0              40  United-States  <=50K  \n",
      "32559             0             0              20  United-States  <=50K  \n",
      "32560         15024             0              40  United-States   >50K  \n",
      "\n",
      "[32561 rows x 15 columns]\n"
     ]
    }
   ],
   "source": [
    "import pandas as pd\n",
    "data = pd.read_csv(\"C:\\\\Users\\\\wendi\\\\Desktop\\\\DAJ\\\\adult_data.csv\")\n",
    "print(data)"
   ]
  },
  {
   "cell_type": "code",
   "execution_count": 2,
   "metadata": {
    "scrolled": true
   },
   "outputs": [
    {
     "name": "stdout",
     "output_type": "stream",
     "text": [
      "Index(['age', 'workclass', 'fnlwgt', 'education', 'education-num',\n",
      "       'marital-status', 'occupation', 'relationship', 'race', 'sex',\n",
      "       'capital-gain', 'capital-loss', 'hours-per-week', 'native-country',\n",
      "       'salary'],\n",
      "      dtype='object')\n"
     ]
    }
   ],
   "source": [
    "# display all the columns\n",
    "print(data.columns)"
   ]
  },
  {
   "cell_type": "code",
   "execution_count": 3,
   "metadata": {
    "scrolled": false
   },
   "outputs": [
    {
     "name": "stdout",
     "output_type": "stream",
     "text": [
      "    age         workclass  fnlwgt     education  education-num  \\\n",
      "0    39         State-gov   77516     Bachelors             13   \n",
      "1    50  Self-emp-not-inc   83311     Bachelors             13   \n",
      "2    38           Private  215646       HS-grad              9   \n",
      "3    53           Private  234721          11th              7   \n",
      "4    28           Private  338409     Bachelors             13   \n",
      "5    37           Private  284582       Masters             14   \n",
      "6    49           Private  160187           9th              5   \n",
      "7    52  Self-emp-not-inc  209642       HS-grad              9   \n",
      "8    31           Private   45781       Masters             14   \n",
      "9    42           Private  159449     Bachelors             13   \n",
      "10   37           Private  280464  Some-college             10   \n",
      "11   30         State-gov  141297     Bachelors             13   \n",
      "12   23           Private  122272     Bachelors             13   \n",
      "13   32           Private  205019    Assoc-acdm             12   \n",
      "14   40           Private  121772     Assoc-voc             11   \n",
      "15   34           Private  245487       7th-8th              4   \n",
      "16   25  Self-emp-not-inc  176756       HS-grad              9   \n",
      "17   32           Private  186824       HS-grad              9   \n",
      "18   38           Private   28887          11th              7   \n",
      "19   43  Self-emp-not-inc  292175       Masters             14   \n",
      "\n",
      "           marital-status         occupation   relationship  \\\n",
      "0           Never-married       Adm-clerical  Not-in-family   \n",
      "1      Married-civ-spouse    Exec-managerial        Husband   \n",
      "2                Divorced  Handlers-cleaners  Not-in-family   \n",
      "3      Married-civ-spouse  Handlers-cleaners        Husband   \n",
      "4      Married-civ-spouse     Prof-specialty           Wife   \n",
      "5      Married-civ-spouse    Exec-managerial           Wife   \n",
      "6   Married-spouse-absent      Other-service  Not-in-family   \n",
      "7      Married-civ-spouse    Exec-managerial        Husband   \n",
      "8           Never-married     Prof-specialty  Not-in-family   \n",
      "9      Married-civ-spouse    Exec-managerial        Husband   \n",
      "10     Married-civ-spouse    Exec-managerial        Husband   \n",
      "11     Married-civ-spouse     Prof-specialty        Husband   \n",
      "12          Never-married       Adm-clerical      Own-child   \n",
      "13          Never-married              Sales  Not-in-family   \n",
      "14     Married-civ-spouse       Craft-repair        Husband   \n",
      "15     Married-civ-spouse   Transport-moving        Husband   \n",
      "16          Never-married    Farming-fishing      Own-child   \n",
      "17          Never-married  Machine-op-inspct      Unmarried   \n",
      "18     Married-civ-spouse              Sales        Husband   \n",
      "19               Divorced    Exec-managerial      Unmarried   \n",
      "\n",
      "                  race     sex  capital-gain  capital-loss  hours-per-week  \\\n",
      "0                White    Male          2174             0              40   \n",
      "1                White    Male             0             0              13   \n",
      "2                White    Male             0             0              40   \n",
      "3                Black    Male             0             0              40   \n",
      "4                Black  Female             0             0              40   \n",
      "5                White  Female             0             0              40   \n",
      "6                Black  Female             0             0              16   \n",
      "7                White    Male             0             0              45   \n",
      "8                White  Female         14084             0              50   \n",
      "9                White    Male          5178             0              40   \n",
      "10               Black    Male             0             0              80   \n",
      "11  Asian-Pac-Islander    Male             0             0              40   \n",
      "12               White  Female             0             0              30   \n",
      "13               Black    Male             0             0              50   \n",
      "14  Asian-Pac-Islander    Male             0             0              40   \n",
      "15  Amer-Indian-Eskimo    Male             0             0              45   \n",
      "16               White    Male             0             0              35   \n",
      "17               White    Male             0             0              40   \n",
      "18               White    Male             0             0              50   \n",
      "19               White  Female             0             0              45   \n",
      "\n",
      "   native-country salary  \n",
      "0   United-States  <=50K  \n",
      "1   United-States  <=50K  \n",
      "2   United-States  <=50K  \n",
      "3   United-States  <=50K  \n",
      "4            Cuba  <=50K  \n",
      "5   United-States  <=50K  \n",
      "6         Jamaica  <=50K  \n",
      "7   United-States   >50K  \n",
      "8   United-States   >50K  \n",
      "9   United-States   >50K  \n",
      "10  United-States   >50K  \n",
      "11          India   >50K  \n",
      "12  United-States  <=50K  \n",
      "13  United-States  <=50K  \n",
      "14              ?   >50K  \n",
      "15         Mexico  <=50K  \n",
      "16  United-States  <=50K  \n",
      "17  United-States  <=50K  \n",
      "18  United-States  <=50K  \n",
      "19  United-States   >50K  \n"
     ]
    }
   ],
   "source": [
    "# first 20 records\n",
    "print(data.head(20))"
   ]
  },
  {
   "cell_type": "code",
   "execution_count": 4,
   "metadata": {},
   "outputs": [
    {
     "name": "stdout",
     "output_type": "stream",
     "text": [
      "       age         workclass  fnlwgt     education  education-num  \\\n",
      "32541   41                 ?  202822       HS-grad              9   \n",
      "32542   72                 ?  129912       HS-grad              9   \n",
      "32543   45         Local-gov  119199    Assoc-acdm             12   \n",
      "32544   31           Private  199655       Masters             14   \n",
      "32545   39         Local-gov  111499    Assoc-acdm             12   \n",
      "32546   37           Private  198216    Assoc-acdm             12   \n",
      "32547   43           Private  260761       HS-grad              9   \n",
      "32548   65  Self-emp-not-inc   99359   Prof-school             15   \n",
      "32549   43         State-gov  255835  Some-college             10   \n",
      "32550   43  Self-emp-not-inc   27242  Some-college             10   \n",
      "32551   32           Private   34066          10th              6   \n",
      "32552   43           Private   84661     Assoc-voc             11   \n",
      "32553   32           Private  116138       Masters             14   \n",
      "32554   53           Private  321865       Masters             14   \n",
      "32555   22           Private  310152  Some-college             10   \n",
      "32556   27           Private  257302    Assoc-acdm             12   \n",
      "32557   40           Private  154374       HS-grad              9   \n",
      "32558   58           Private  151910       HS-grad              9   \n",
      "32559   22           Private  201490       HS-grad              9   \n",
      "32560   52      Self-emp-inc  287927       HS-grad              9   \n",
      "\n",
      "           marital-status         occupation    relationship  \\\n",
      "32541           Separated                  ?   Not-in-family   \n",
      "32542  Married-civ-spouse                  ?         Husband   \n",
      "32543            Divorced     Prof-specialty       Unmarried   \n",
      "32544            Divorced      Other-service   Not-in-family   \n",
      "32545  Married-civ-spouse       Adm-clerical            Wife   \n",
      "32546            Divorced       Tech-support   Not-in-family   \n",
      "32547  Married-civ-spouse  Machine-op-inspct         Husband   \n",
      "32548       Never-married     Prof-specialty   Not-in-family   \n",
      "32549            Divorced       Adm-clerical  Other-relative   \n",
      "32550  Married-civ-spouse       Craft-repair         Husband   \n",
      "32551  Married-civ-spouse  Handlers-cleaners         Husband   \n",
      "32552  Married-civ-spouse              Sales         Husband   \n",
      "32553       Never-married       Tech-support   Not-in-family   \n",
      "32554  Married-civ-spouse    Exec-managerial         Husband   \n",
      "32555       Never-married    Protective-serv   Not-in-family   \n",
      "32556  Married-civ-spouse       Tech-support            Wife   \n",
      "32557  Married-civ-spouse  Machine-op-inspct         Husband   \n",
      "32558             Widowed       Adm-clerical       Unmarried   \n",
      "32559       Never-married       Adm-clerical       Own-child   \n",
      "32560  Married-civ-spouse    Exec-managerial            Wife   \n",
      "\n",
      "                     race     sex  capital-gain  capital-loss  hours-per-week  \\\n",
      "32541               Black  Female             0             0              32   \n",
      "32542               White    Male             0             0              25   \n",
      "32543               White  Female             0             0              48   \n",
      "32544               Other  Female             0             0              30   \n",
      "32545               White  Female             0             0              20   \n",
      "32546               White  Female             0             0              40   \n",
      "32547               White    Male             0             0              40   \n",
      "32548               White    Male          1086             0              60   \n",
      "32549               White  Female             0             0              40   \n",
      "32550               White    Male             0             0              50   \n",
      "32551  Amer-Indian-Eskimo    Male             0             0              40   \n",
      "32552               White    Male             0             0              45   \n",
      "32553  Asian-Pac-Islander    Male             0             0              11   \n",
      "32554               White    Male             0             0              40   \n",
      "32555               White    Male             0             0              40   \n",
      "32556               White  Female             0             0              38   \n",
      "32557               White    Male             0             0              40   \n",
      "32558               White  Female             0             0              40   \n",
      "32559               White    Male             0             0              20   \n",
      "32560               White  Female         15024             0              40   \n",
      "\n",
      "      native-country salary  \n",
      "32541  United-States  <=50K  \n",
      "32542  United-States  <=50K  \n",
      "32543  United-States  <=50K  \n",
      "32544  United-States  <=50K  \n",
      "32545  United-States   >50K  \n",
      "32546  United-States  <=50K  \n",
      "32547         Mexico  <=50K  \n",
      "32548  United-States  <=50K  \n",
      "32549  United-States  <=50K  \n",
      "32550  United-States  <=50K  \n",
      "32551  United-States  <=50K  \n",
      "32552  United-States  <=50K  \n",
      "32553         Taiwan  <=50K  \n",
      "32554  United-States   >50K  \n",
      "32555  United-States  <=50K  \n",
      "32556  United-States  <=50K  \n",
      "32557  United-States   >50K  \n",
      "32558  United-States  <=50K  \n",
      "32559  United-States  <=50K  \n",
      "32560  United-States   >50K  \n"
     ]
    }
   ],
   "source": [
    "# last 20 records\n",
    "print(data.tail(20))"
   ]
  },
  {
   "cell_type": "code",
   "execution_count": 5,
   "metadata": {
    "scrolled": true
   },
   "outputs": [
    {
     "name": "stdout",
     "output_type": "stream",
     "text": [
      "                age        fnlwgt  education-num  capital-gain  capital-loss  \\\n",
      "count  32561.000000  3.256100e+04   32561.000000  32561.000000  32561.000000   \n",
      "mean      38.581647  1.897784e+05      10.080679   1077.648844     87.303830   \n",
      "std       13.640433  1.055500e+05       2.572720   7385.292085    402.960219   \n",
      "min       17.000000  1.228500e+04       1.000000      0.000000      0.000000   \n",
      "25%       28.000000  1.178270e+05       9.000000      0.000000      0.000000   \n",
      "50%       37.000000  1.783560e+05      10.000000      0.000000      0.000000   \n",
      "75%       48.000000  2.370510e+05      12.000000      0.000000      0.000000   \n",
      "max       90.000000  1.484705e+06      16.000000  99999.000000   4356.000000   \n",
      "\n",
      "       hours-per-week  \n",
      "count    32561.000000  \n",
      "mean        40.437456  \n",
      "std         12.347429  \n",
      "min          1.000000  \n",
      "25%         40.000000  \n",
      "50%         40.000000  \n",
      "75%         45.000000  \n",
      "max         99.000000  \n"
     ]
    }
   ],
   "source": [
    "# statistics of dataset\n",
    "print(data.describe())"
   ]
  },
  {
   "cell_type": "code",
   "execution_count": 6,
   "metadata": {},
   "outputs": [
    {
     "name": "stdout",
     "output_type": "stream",
     "text": [
      "(32561, 15)\n"
     ]
    }
   ],
   "source": [
    "#dimension of dataset\n",
    "print(data.shape)"
   ]
  },
  {
   "cell_type": "code",
   "execution_count": 9,
   "metadata": {
    "scrolled": true
   },
   "outputs": [
    {
     "name": "stdout",
     "output_type": "stream",
     "text": [
      "Male      21790\n",
      "Female    10771\n",
      "Name: sex, dtype: int64\n"
     ]
    }
   ],
   "source": [
    "# number of men and women in dataset\n",
    "print(data['sex'].value_counts())"
   ]
  },
  {
   "cell_type": "code",
   "execution_count": 13,
   "metadata": {},
   "outputs": [
    {
     "name": "stdout",
     "output_type": "stream",
     "text": [
      "36.85823043357163\n"
     ]
    }
   ],
   "source": [
    "# Calculate the average age of women\n",
    "average_age_of_women = data[data['sex'] == 'Female']['age'].mean()\n",
    "print(average_age_of_women)\n"
   ]
  },
  {
   "cell_type": "code",
   "execution_count": 14,
   "metadata": {},
   "outputs": [
    {
     "name": "stdout",
     "output_type": "stream",
     "text": [
      "Percentage of German citizens in the dataset: 0.42%\n"
     ]
    }
   ],
   "source": [
    "#percentage of German citizens \n",
    "# Count the number of entries where native country is Germany\n",
    "german_citizens_count = data[data['native-country'] == 'Germany'].shape[0]\n",
    "\n",
    "# Calculate the total number of entries in the DataFrame\n",
    "total_entries = data.shape[0]\n",
    "\n",
    "# Calculate the percentage of German citizens\n",
    "percentage_german_citizens = (german_citizens_count / total_entries) * 100\n",
    "\n",
    "print(f\"Percentage of German citizens in the dataset: {percentage_german_citizens:.2f}%\")\n"
   ]
  },
  {
   "cell_type": "code",
   "execution_count": 17,
   "metadata": {
    "scrolled": true
   },
   "outputs": [
    {
     "name": "stdout",
     "output_type": "stream",
     "text": [
      "salary\n",
      "<=50K    36.783738\n",
      ">50K     44.249841\n",
      "Name: age, dtype: float64\n",
      "salary\n",
      "<=50K    14.020088\n",
      ">50K     10.519028\n",
      "Name: age, dtype: float64\n"
     ]
    }
   ],
   "source": [
    "#Calculate mean and standard deviation of age for different salary groups\n",
    "mean_age_by_salary = data.groupby('salary')['age'].mean()\n",
    "print({mean_age_by_salary)\n",
    "std_dev_age_by_salary = data.groupby('salary')['age'].std()\n",
    "print(std_dev_age_by_salary)"
   ]
  },
  {
   "cell_type": "code",
   "execution_count": 18,
   "metadata": {},
   "outputs": [
    {
     "name": "stdout",
     "output_type": "stream",
     "text": [
      "Not all people who earn more than 50K have at least high school education.\n"
     ]
    }
   ],
   "source": [
    "# Filter the dataset for individuals earning more than 50K\n",
    "high_income = ['Bachelors', 'Prof-school', 'Assoc-acdm', 'Assoc-voc', 'Masters', 'Doctorate']\n",
    "filtered_data = data[data['salary'] == '>50K']\n",
    "\n",
    "# Check if people earning more than 50K have at least high school education\n",
    "result = all(filtered_data['education'].isin(high_income))\n",
    "\n",
    "if result:\n",
    "    print(\"People who earn more than 50K have at least high school education.\")\n",
    "else:\n",
    "    print(\"Not all people who earn more than 50K have at least high school education.\")\n"
   ]
  },
  {
   "cell_type": "code",
   "execution_count": 19,
   "metadata": {
    "scrolled": true
   },
   "outputs": [
    {
     "name": "stdout",
     "output_type": "stream",
     "text": [
      "                        age                                                \\\n",
      "                      count       mean        std   min   25%   50%   75%   \n",
      "race                                                                        \n",
      "Amer-Indian-Eskimo    311.0  37.173633  12.447130  17.0  28.0  35.0  45.5   \n",
      "Asian-Pac-Islander   1039.0  37.746872  12.825133  17.0  28.0  36.0  45.0   \n",
      "Black                3124.0  37.767926  12.759290  17.0  28.0  36.0  46.0   \n",
      "Other                 271.0  33.457565  11.538865  17.0  25.0  31.0  41.0   \n",
      "White               27816.0  38.769881  13.782306  17.0  28.0  37.0  48.0   \n",
      "\n",
      "                           fnlwgt                 ... capital-loss          \\\n",
      "                     max    count           mean  ...          75%     max   \n",
      "race                                              ...                        \n",
      "Amer-Indian-Eskimo  82.0    311.0  120831.147910  ...          0.0  1980.0   \n",
      "Asian-Pac-Islander  90.0   1039.0  159940.609240  ...          0.0  2457.0   \n",
      "Black               90.0   3124.0  228013.124200  ...          0.0  4356.0   \n",
      "Other               77.0    271.0  197124.191882  ...          0.0  2179.0   \n",
      "White               90.0  27816.0  187298.064280  ...          0.0  4356.0   \n",
      "\n",
      "                   hours-per-week                                         \\\n",
      "                            count       mean        std  min   25%   50%   \n",
      "race                                                                       \n",
      "Amer-Indian-Eskimo          311.0  40.048232  11.695364  3.0  40.0  40.0   \n",
      "Asian-Pac-Islander         1039.0  40.127045  12.556816  1.0  40.0  40.0   \n",
      "Black                      3124.0  38.422855  10.315646  1.0  37.0  40.0   \n",
      "Other                       271.0  39.468635  11.143755  5.0  36.0  40.0   \n",
      "White                     27816.0  40.689100  12.544796  1.0  40.0  40.0   \n",
      "\n",
      "                                \n",
      "                     75%   max  \n",
      "race                            \n",
      "Amer-Indian-Eskimo  40.0  84.0  \n",
      "Asian-Pac-Islander  40.0  99.0  \n",
      "Black               40.0  99.0  \n",
      "Other               40.0  98.0  \n",
      "White               45.0  99.0  \n",
      "\n",
      "[5 rows x 48 columns]\n"
     ]
    }
   ],
   "source": [
    "#age statistics for race\n",
    "print(data.groupby('race').describe())"
   ]
  },
  {
   "cell_type": "code",
   "execution_count": 20,
   "metadata": {
    "scrolled": true
   },
   "outputs": [
    {
     "name": "stdout",
     "output_type": "stream",
     "text": [
      "            age                                                       fnlwgt  \\\n",
      "          count       mean        std   min   25%   50%   75%   max    count   \n",
      "sex                                                                            \n",
      "Female  10771.0  36.858230  14.013697  17.0  25.0  35.0  46.0  90.0  10771.0   \n",
      "Male    21790.0  39.433547  13.370630  17.0  29.0  38.0  48.0  90.0  21790.0   \n",
      "\n",
      "                       ... capital-loss         hours-per-week             \\\n",
      "                 mean  ...          75%     max          count       mean   \n",
      "sex                    ...                                                  \n",
      "Female  185746.311206  ...          0.0  4356.0        10771.0  36.410361   \n",
      "Male    191771.449013  ...          0.0  3770.0        21790.0  42.428086   \n",
      "\n",
      "                                                \n",
      "              std  min   25%   50%   75%   max  \n",
      "sex                                             \n",
      "Female  11.811300  1.0  30.0  40.0  40.0  99.0  \n",
      "Male    12.119755  1.0  40.0  40.0  49.0  99.0  \n",
      "\n",
      "[2 rows x 48 columns]\n"
     ]
    }
   ],
   "source": [
    "#age statistics for race\n",
    "print(data.groupby('sex').describe())"
   ]
  },
  {
   "cell_type": "code",
   "execution_count": 22,
   "metadata": {},
   "outputs": [
    {
     "name": "stdout",
     "output_type": "stream",
     "text": [
      "82\n"
     ]
    }
   ],
   "source": [
    "# maximum age of Amer-Indian Eskimo men\n",
    "# Filter the dataset for Amer-Indian-Eskimo men\n",
    "filtered_data = data[(data['race'] == 'Amer-Indian-Eskimo') & (data['sex'] == 'Male')]\n",
    "\n",
    "# Find the maximum age\n",
    "max_age = filtered_data['age'].max()\n",
    "\n",
    "print(max_age)\n"
   ]
  },
  {
   "cell_type": "code",
   "execution_count": 23,
   "metadata": {},
   "outputs": [
    {
     "name": "stdout",
     "output_type": "stream",
     "text": [
      "Proportion of married men earning more than 50K: 0.43692028280469614\n",
      "Proportion of single men earning more than 50K: 0.0644540363975735\n"
     ]
    }
   ],
   "source": [
    "# Categorize individuals into married and single groups\n",
    "married_statuses = ['Married-civ-spouse', 'Married-spouse-absent', 'Married-AF-spouse']\n",
    "data['marital-status-category'] = data['marital-status'].apply(lambda x: 'Married' if x in married_statuses else 'Single')\n",
    "\n",
    "# Calculate the proportion of individuals earning more than 50K in each group\n",
    "proportion_earning_more_than_50K = data.groupby('marital-status-category')['salary'].value_counts(normalize=True).unstack().loc[:, '>50K']\n",
    "\n",
    "# Compare the proportions\n",
    "print(\"Proportion of married men earning more than 50K:\", proportion_earning_more_than_50K['Married'])\n",
    "print(\"Proportion of single men earning more than 50K:\", proportion_earning_more_than_50K['Single'])\n"
   ]
  },
  {
   "cell_type": "code",
   "execution_count": 26,
   "metadata": {},
   "outputs": [
    {
     "name": "stdout",
     "output_type": "stream",
     "text": [
      "99\n",
      "85\n",
      "29.411764705882355\n"
     ]
    }
   ],
   "source": [
    "# Find the maximum number of hours a person works per week\n",
    "max_hours_per_week = data['hours-per-week'].max()\n",
    "print(max_hours_per_week)\n",
    "# Find the number of people working the maximum number of hours\n",
    "num_people_working_max_hours = data[data['hours-per-week'] == max_hours_per_week].shape[0]\n",
    "print(num_people_working_max_hours )\n",
    "# Find the percentage of those who earn more than 50K among them\n",
    "percentage_earning_more_than_50K = (data[(data['hours-per-week'] == max_hours_per_week) & (data['salary'] == '>50K')].shape[0] / num_people_working_max_hours) * 100\n",
    "print(percentage_earning_more_than_50K)"
   ]
  },
  {
   "cell_type": "code",
   "execution_count": 27,
   "metadata": {},
   "outputs": [
    {
     "name": "stdout",
     "output_type": "stream",
     "text": [
      "41.0\n",
      "47.958333333333336\n"
     ]
    }
   ],
   "source": [
    "# Calculate average time of work for each salary group and native country\n",
    "average_hours_by_country = data.groupby(['native-country', 'salary'])['hours-per-week'].mean()\n",
    "\n",
    "# Print the results for Japan\n",
    "average_japan_lowincome = average_hours_by_country.loc['Japan', '<=50K']\n",
    "print(average_japan_lowincome)\n",
    "average_japan_highincome = average_hours_by_country.loc['Japan', '>50K']\n",
    "print(average_japan_highincome)\n"
   ]
  }
 ],
 "metadata": {
  "kernelspec": {
   "display_name": "Python 3",
   "language": "python",
   "name": "python3"
  },
  "language_info": {
   "codemirror_mode": {
    "name": "ipython",
    "version": 3
   },
   "file_extension": ".py",
   "mimetype": "text/x-python",
   "name": "python",
   "nbconvert_exporter": "python",
   "pygments_lexer": "ipython3",
   "version": "3.8.5"
  }
 },
 "nbformat": 4,
 "nbformat_minor": 4
}
